{
 "cells": [
  {
   "cell_type": "code",
   "execution_count": 11,
   "metadata": {},
   "outputs": [],
   "source": [
    "# import Datetime for the document's timestamp\n",
    "from datetime import datetime\n",
    "\n",
    "# import glob and os\n",
    "import os, glob\n",
    "\n",
    "# use the elasticsearch client's helpers class for _bulk API\n",
    "from elasticsearch import Elasticsearch, helpers\n",
    "\n",
    "# import display module to print messages\n",
    "from IPython.display import display"
   ]
  },
  {
   "cell_type": "code",
   "execution_count": 5,
   "metadata": {},
   "outputs": [],
   "source": [
    "# declare a client instance of the Python Elasticsearch library\n",
    "client = Elasticsearch(\"http://localhost:9200\")"
   ]
  },
  {
   "cell_type": "code",
   "execution_count": 6,
   "metadata": {},
   "outputs": [],
   "source": [
    "# posix uses \"/\", and Windows uses \"\"\n",
    "if os.name == 'posix':\n",
    "    slash = \"/\" # for Linux and macOS\n",
    "else:\n",
    "    slash = chr(92) # backslash '\\' for Windows"
   ]
  },
  {
   "cell_type": "code",
   "execution_count": 27,
   "metadata": {},
   "outputs": [],
   "source": [
    "def current_path():\n",
    "    return os.path.dirname(os.path.abspath(''))"
   ]
  },
  {
   "cell_type": "code",
   "execution_count": 28,
   "metadata": {},
   "outputs": [],
   "source": [
    "# default path is the script's current dir\n",
    "def get_files_in_dir(self=current_path()):\n",
    "\n",
    "    # declare empty list for files\n",
    "    file_list = []\n",
    "\n",
    "    # put a slash in dir name if needed\n",
    "    if self[-1] != slash:\n",
    "        self = self + slash\n",
    "\n",
    "    # iterate the files in dir using glob\n",
    "    for filename in glob.glob(self + '*.txt*'):\n",
    "\n",
    "        # add each file to the list\n",
    "        file_list += [filename]\n",
    "\n",
    "    # return the list of filenames\n",
    "    return file_list"
   ]
  },
  {
   "cell_type": "code",
   "execution_count": 29,
   "metadata": {},
   "outputs": [],
   "source": [
    "def get_data_from_text_file(file):\n",
    "\n",
    "    # declare an empty list for the data\n",
    "    data = []\n",
    "\n",
    "    # get the data line-by-line using os.open()\n",
    "    for line in open(file, encoding=\"utf8\", errors='ignore'):\n",
    "\n",
    "        # append each line of data to the list\n",
    "        data += [ str(line) ]\n",
    "\n",
    "    # return the list of data\n",
    "    return data"
   ]
  },
  {
   "cell_type": "code",
   "execution_count": 32,
   "metadata": {},
   "outputs": [
    {
     "data": {
      "text/plain": [
       "'TOTAL FILES: 3'"
      ]
     },
     "metadata": {},
     "output_type": "display_data"
    }
   ],
   "source": [
    "# pass a directory (relative path) to function call\n",
    "all_files = get_files_in_dir(\"files\")\n",
    "\n",
    "# total number of files to index\n",
    "display (f\"TOTAL FILES: {len(all_files)}\")"
   ]
  },
  {
   "cell_type": "code",
   "execution_count": 35,
   "metadata": {},
   "outputs": [
    {
     "data": {
      "text/plain": [
       "'\\nhelpers.bulk() RESPONSE:'"
      ]
     },
     "metadata": {},
     "output_type": "display_data"
    },
    {
     "data": {
      "text/plain": [
       "(3, [])"
      ]
     },
     "metadata": {},
     "output_type": "display_data"
    },
    {
     "data": {
      "text/plain": [
       "'RESPONSE TYPE:'"
      ]
     },
     "metadata": {},
     "output_type": "display_data"
    },
    {
     "data": {
      "text/plain": [
       "tuple"
      ]
     },
     "metadata": {},
     "output_type": "display_data"
    }
   ],
   "source": [
    "# define a function that yields an Elasticsearch document from file data\n",
    "def yield_docs(all_files):\n",
    "\n",
    "    # iterate over the list of files\n",
    "    for _id, _file in enumerate(all_files):\n",
    "\n",
    "        # use 'rfind()' to get last occurence of slash\n",
    "        file_name = _file[ _file.rfind(slash)+1:]\n",
    "\n",
    "        # get the file's statistics\n",
    "        stats = os.stat( _file )\n",
    "\n",
    "        # timestamps for the file\n",
    "        create_time = datetime.fromtimestamp( stats.st_ctime )\n",
    "        modify_time = datetime.fromtimestamp( stats.st_mtime )\n",
    "\n",
    "        # get the data inside the file\n",
    "        data = get_data_from_text_file( _file )\n",
    "\n",
    "        # join the list of data into one string using return\n",
    "        data = \"\".join( data )\n",
    "\n",
    "        # create the _source data for the Elasticsearch doc\n",
    "        doc_source = {\n",
    "            \"file_name\": file_name,\n",
    "            \"create_time\": create_time,\n",
    "            \"modify_time\": modify_time,\n",
    "            \"data\": data\n",
    "        }\n",
    "\n",
    "        # use a yield generator so that the doc data isn't loaded into memory\n",
    "        yield {\n",
    "            \"_index\": \"my_files\",\n",
    "            \"_type\": \"some_type\",\n",
    "            \"_id\": _id + 1, # number _id for each iteration\n",
    "            \"_source\": doc_source\n",
    "        }\n",
    "\n",
    "try:\n",
    "    # make the bulk call using 'actions' and get a response\n",
    "    resp = helpers.bulk(\n",
    "        client,\n",
    "        yield_docs( all_files )\n",
    "    )\n",
    "    display (\"\\nhelpers.bulk() RESPONSE:\", resp)\n",
    "    display (\"RESPONSE TYPE:\", type(resp))\n",
    "except Exception as err:\n",
    "    display(\"\\nhelpers.bulk() ERROR:\", err)"
   ]
  },
  {
   "cell_type": "code",
   "execution_count": null,
   "metadata": {},
   "outputs": [],
   "source": []
  }
 ],
 "metadata": {
  "kernelspec": {
   "display_name": "Python 3",
   "language": "python",
   "name": "python3"
  },
  "language_info": {
   "codemirror_mode": {
    "name": "ipython",
    "version": 3
   },
   "file_extension": ".py",
   "mimetype": "text/x-python",
   "name": "python",
   "nbconvert_exporter": "python",
   "pygments_lexer": "ipython3",
   "version": "3.7.6"
  }
 },
 "nbformat": 4,
 "nbformat_minor": 4
}
